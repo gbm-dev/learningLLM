{
 "cells": [
  {
   "cell_type": "markdown",
   "id": "b8e55a8a",
   "metadata": {},
   "source": [
    "# 1.2. Why use Pydantic?\n",
    "\n",
    "Pydantic offers numerous benefits that make it an excellent choice for data validation and settings management in Python projects. Let's explore the key advantages and use cases for Pydantic.\n",
    "\n",
    "## Benefits\n",
    "\n",
    "1. **Type Safety**: Pydantic leverages Python's type hinting system to provide runtime type checking, helping catch type-related errors early in the development process.\n",
    "\n",
    "2. **Automatic Validation**: Data is automatically validated against the defined schema, reducing the need for manual checks and simplifying error handling.\n",
    "\n",
    "3. **Clear and Concise Code**: Pydantic models are easy to read and understand, improving code maintainability and reducing the likelihood of bugs.\n",
    "\n",
    "4. **Serialization and Deserialization**: Easily convert between Pydantic models and various data formats like JSON, dictionaries, and more.\n",
    "\n",
    "5. **IDE Support**: Since Pydantic uses standard Python type hints, it works well with IDEs, providing better autocomplete and type checking features.\n",
    "\n",
    "6. **Extensibility**: Pydantic allows for custom validators and data types, making it adaptable to various use cases.\n",
    "\n",
    "7. **Documentation**: Pydantic models can serve as self-documenting schemas, which is particularly useful in API development.\n",
    "\n",
    "## Use Cases\n",
    "\n",
    "Pydantic excels in various scenarios, including:\n",
    "\n",
    "1. **API Development**: Validate incoming request data and structure response data.\n"
   ]
  },
  {
   "cell_type": "code",
   "execution_count": null,
   "id": "da014924",
   "metadata": {},
   "outputs": [],
   "source": [
    "from pydantic import BaseModel\n",
    "from fastapi import FastAPI\n",
    "\n",
    "app = FastAPI()\n",
    "\n",
    "class Item(BaseModel):\n",
    "    name: str\n",
    "    price: float\n",
    "    is_offer: bool = False\n",
    "\n",
    "@app.post(\"/items/\")\n",
    "async def create_item(item: Item):\n",
    "    return {\"item_name\": item.name, \"item_price\": item.price}"
   ]
  },
  {
   "cell_type": "markdown",
   "id": "81e565d2",
   "metadata": {},
   "source": [
    "\n",
    "2. **Configuration Management**: Define and validate application settings.\n"
   ]
  },
  {
   "cell_type": "code",
   "execution_count": null,
   "id": "73896fd1",
   "metadata": {},
   "outputs": [],
   "source": [
    "from pydantic import BaseSettings\n",
    "\n",
    "class Settings(BaseSettings):\n",
    "    database_url: str\n",
    "    api_key: str\n",
    "    debug_mode: bool = False\n",
    "\n",
    "    class Config:\n",
    "        env_file = \".env\"\n",
    "\n",
    "settings = Settings()\n",
    "print(f\"Database URL: {settings.database_url}\")"
   ]
  },
  {
   "cell_type": "markdown",
   "id": "a2b10de7",
   "metadata": {},
   "source": [
    "\n",
    "3. **Data Parsing and Cleaning**: Ensure data consistency and format.\n"
   ]
  },
  {
   "cell_type": "code",
   "execution_count": null,
   "id": "5840bb9b",
   "metadata": {},
   "outputs": [],
   "source": [
    "from pydantic import BaseModel, EmailStr, Field\n",
    "from datetime import date\n",
    "\n",
    "class User(BaseModel):\n",
    "    name: str = Field(..., min_length=2, max_length=50)\n",
    "    email: EmailStr\n",
    "    birth_date: date\n",
    "    age: int = Field(..., ge=0, le=120)\n",
    "\n",
    "user_data = {\n",
    "    \"name\": \"Alice\",\n",
    "    \"email\": \"alice@example.com\",\n",
    "    \"birth_date\": \"1990-01-01\",\n",
    "    \"age\": 32\n",
    "}\n",
    "\n",
    "user = User(**user_data)\n",
    "print(user)"
   ]
  },
  {
   "cell_type": "markdown",
   "id": "a6801267",
   "metadata": {},
   "source": [
    "\n",
    "4. **Database ORM Integration**: Define models that correspond to database tables.\n"
   ]
  },
  {
   "cell_type": "code",
   "execution_count": null,
   "id": "663f0858",
   "metadata": {},
   "outputs": [],
   "source": [
    "from pydantic import BaseModel\n",
    "from sqlalchemy import Column, Integer, String\n",
    "from sqlalchemy.orm import declarative_base\n",
    "\n",
    "Base = declarative_base()\n",
    "\n",
    "class UserDB(Base):\n",
    "    __tablename__ = \"users\"\n",
    "    id = Column(Integer, primary_key=True, index=True)\n",
    "    name = Column(String, index=True)\n",
    "    email = Column(String, unique=True, index=True)\n",
    "\n",
    "class UserModel(BaseModel):\n",
    "    id: int\n",
    "    name: str\n",
    "    email: str\n",
    "\n",
    "    class Config:\n",
    "        orm_mode = True\n",
    "\n",
    "# Now you can use UserModel with SQLAlchemy ORM objects"
   ]
  },
  {
   "cell_type": "markdown",
   "id": "b7d2dc79",
   "metadata": {},
   "source": [
    "\n",
    "## Performance Advantages\n",
    "\n",
    "Pydantic is designed with performance in mind:\n",
    "\n",
    "1. **Rust-powered Core**: The core validation logic is implemented in Rust, providing significant speed improvements.\n",
    "\n",
    "2. **Efficient Parsing**: Pydantic uses efficient parsing techniques, making it suitable for high-performance applications.\n",
    "\n",
    "3. **Minimal Overhead**: The library adds minimal runtime overhead while providing robust validation.\n",
    "\n",
    "Here's a simple benchmark comparing Pydantic to manual validation:\n"
   ]
  },
  {
   "cell_type": "code",
   "execution_count": null,
   "id": "c567b467",
   "metadata": {},
   "outputs": [],
   "source": [
    "import timeit\n",
    "from pydantic import BaseModel\n",
    "\n",
    "class ManualUser:\n",
    "    def __init__(self, name: str, age: int):\n",
    "        assert isinstance(name, str), \"Name must be a string\"\n",
    "        assert isinstance(age, int), \"Age must be an integer\"\n",
    "        assert len(name) > 0, \"Name cannot be empty\"\n",
    "        assert 0 <= age <= 120, \"Age must be between 0 and 120\"\n",
    "        self.name = name\n",
    "        self.age = age\n",
    "\n",
    "class PydanticUser(BaseModel):\n",
    "    name: str\n",
    "    age: int\n",
    "\n",
    "    class Config:\n",
    "        max_anystr_length = 100\n",
    "        validate_all = True\n",
    "\n",
    "def create_manual_user():\n",
    "    return ManualUser(\"John Doe\", 30)\n",
    "\n",
    "def create_pydantic_user():\n",
    "    return PydanticUser(name=\"John Doe\", age=30)\n",
    "\n",
    "manual_time = timeit.timeit(create_manual_user, number=10000)\n",
    "pydantic_time = timeit.timeit(create_pydantic_user, number=10000)\n",
    "\n",
    "print(f\"Manual validation time: {manual_time:.6f} seconds\")\n",
    "print(f\"Pydantic validation time: {pydantic_time:.6f} seconds\")"
   ]
  },
  {
   "cell_type": "markdown",
   "id": "30b2d1db",
   "metadata": {},
   "source": [
    "\n",
    "While the actual performance may vary depending on the complexity of your models and validation rules, Pydantic generally offers excellent performance, especially for more complex data structures.\n",
    "\n",
    "By using Pydantic, you can write more robust, type-safe code with less effort, while also benefiting from its performance optimizations and extensive feature set."
   ]
  }
 ],
 "metadata": {},
 "nbformat": 4,
 "nbformat_minor": 5
}
