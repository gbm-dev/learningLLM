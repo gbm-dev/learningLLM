{
 "cells": [
  {
   "cell_type": "markdown",
   "id": "172d2471",
   "metadata": {},
   "source": [
    "# 2.1. Creating Basic Models\n",
    "\n",
    "Pydantic models are the foundation of working with Pydantic. They provide a way to define the structure and types of your data, enabling automatic validation and serialization.\n",
    "\n",
    "## Defining Your First Pydantic Model\n",
    "\n",
    "To create a Pydantic model, you need to:\n",
    "1. Import `BaseModel` from Pydantic\n",
    "2. Create a class that inherits from `BaseModel`\n",
    "3. Define fields using type annotations\n",
    "\n",
    "Here's a simple example:\n"
   ]
  },
  {
   "cell_type": "code",
   "execution_count": null,
   "id": "c08ca510",
   "metadata": {},
   "outputs": [],
   "source": [
    "from pydantic import BaseModel\n",
    "from typing import Optional\n",
    "\n",
    "class User(BaseModel):\n",
    "    id: int\n",
    "    name: str\n",
    "    email: str\n",
    "    age: Optional[int] = None\n",
    "    is_active: bool = True\n",
    "\n",
    "# Create an instance of the model\n",
    "user = User(id=1, name=\"John Doe\", email=\"john@example.com\", age=30)\n",
    "print(user)\n",
    "# Output: id=1 name='John Doe' email='john@example.com' age=30 is_active=True"
   ]
  },
  {
   "cell_type": "markdown",
   "id": "f4ce5010",
   "metadata": {},
   "source": [
    "\n",
    "In this example:\n",
    "- `User` is a Pydantic model that inherits from `BaseModel`.\n",
    "- Fields are defined using type annotations (e.g., `id: int`).\n",
    "- `Optional[int]` is used for `age` to indicate it's not required.\n",
    "- Default values can be set (e.g., `is_active: bool = True`).\n",
    "\n",
    "## Understanding Model Behavior\n",
    "\n",
    "Pydantic models come with several built-in behaviors:\n",
    "\n",
    "### 1. Automatic Validation\n",
    "\n",
    "When you create an instance of a model, Pydantic automatically validates the input data:\n"
   ]
  },
  {
   "cell_type": "code",
   "execution_count": null,
   "id": "cf98e9ae",
   "metadata": {},
   "outputs": [],
   "source": [
    "try:\n",
    "    invalid_user = User(id=\"not an int\", name=123, email=\"invalid-email\")\n",
    "except ValueError as e:\n",
    "    print(f\"Validation error: {e}\")"
   ]
  },
  {
   "cell_type": "markdown",
   "id": "4ab78d87",
   "metadata": {},
   "source": [
    "\n",
    "### 2. Type Coercion\n",
    "\n",
    "Pydantic tries to coerce values to the correct type when possible:\n"
   ]
  },
  {
   "cell_type": "code",
   "execution_count": null,
   "id": "938a7d08",
   "metadata": {},
   "outputs": [],
   "source": [
    "user = User(id=\"1\", name=\"Alice\", email=\"alice@example.com\")\n",
    "print(user.id)  # Output: 1 (converted to int)"
   ]
  },
  {
   "cell_type": "markdown",
   "id": "78c11488",
   "metadata": {},
   "source": [
    "\n",
    "### 3. Attribute Access\n",
    "\n",
    "You can access model fields as attributes:\n"
   ]
  },
  {
   "cell_type": "code",
   "execution_count": null,
   "id": "6a0a5f7f",
   "metadata": {},
   "outputs": [],
   "source": [
    "print(user.name)  # Output: Alice\n",
    "user.age = 25\n",
    "print(user.age)  # Output: 25"
   ]
  },
  {
   "cell_type": "markdown",
   "id": "0c9d68ff",
   "metadata": {},
   "source": [
    "\n",
    "### 4. Dictionary Conversion\n",
    "\n",
    "Models can be easily converted to dictionaries:\n"
   ]
  },
  {
   "cell_type": "code",
   "execution_count": null,
   "id": "07be9d79",
   "metadata": {},
   "outputs": [],
   "source": [
    "user_dict = user.dict()\n",
    "print(user_dict)\n",
    "# Output: {'id': 1, 'name': 'Alice', 'email': 'alice@example.com', 'age': 25, 'is_active': True}"
   ]
  },
  {
   "cell_type": "markdown",
   "id": "219961d7",
   "metadata": {},
   "source": [
    "\n",
    "### 5. JSON Serialization\n",
    "\n",
    "Models can be serialized to JSON:\n"
   ]
  },
  {
   "cell_type": "code",
   "execution_count": null,
   "id": "146957da",
   "metadata": {},
   "outputs": [],
   "source": [
    "json_data = user.json()\n",
    "print(json_data)\n",
    "# Output: {\"id\": 1, \"name\": \"Alice\", \"email\": \"alice@example.com\", \"age\": 25, \"is_active\": true}"
   ]
  },
  {
   "cell_type": "markdown",
   "id": "e481d339",
   "metadata": {},
   "source": [
    "\n",
    "### 6. Copy and Update\n",
    "\n",
    "You can create a copy of a model with updated fields:\n"
   ]
  },
  {
   "cell_type": "code",
   "execution_count": null,
   "id": "ca7e5205",
   "metadata": {},
   "outputs": [],
   "source": [
    "updated_user = user.copy(update={\"age\": 26, \"is_active\": False})\n",
    "print(updated_user)\n",
    "# Output: id=1 name='Alice' email='alice@example.com' age=26 is_active=False"
   ]
  },
  {
   "cell_type": "markdown",
   "id": "f0930290",
   "metadata": {},
   "source": [
    "\n",
    "By understanding these behaviors, you can leverage Pydantic models to create robust, type-safe data structures in your Python applications."
   ]
  }
 ],
 "metadata": {},
 "nbformat": 4,
 "nbformat_minor": 5
}
