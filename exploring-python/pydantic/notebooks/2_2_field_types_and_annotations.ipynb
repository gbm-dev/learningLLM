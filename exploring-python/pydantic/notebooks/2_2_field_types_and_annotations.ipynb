{
 "cells": [
  {
   "cell_type": "markdown",
   "id": "b144215d",
   "metadata": {},
   "source": [
    "# 2.2. Field Types and Annotations\n",
    "\n",
    "Pydantic uses Python's type annotations to define the structure and types of data in models. This section covers the various field types you can use in Pydantic models, including built-in Python types and Pydantic's custom types.\n",
    "\n",
    "## Built-in Python Types\n",
    "\n",
    "Pydantic supports all common Python types out of the box:\n"
   ]
  },
  {
   "cell_type": "code",
   "execution_count": null,
   "id": "77a532b3",
   "metadata": {},
   "outputs": [],
   "source": [
    "from typing import List, Dict, Tuple, Set, Optional, Union\n",
    "from datetime import datetime, date\n",
    "from pydantic import BaseModel\n",
    "\n",
    "class ExampleModel(BaseModel):\n",
    "    string_field: str\n",
    "    integer_field: int\n",
    "    float_field: float\n",
    "    boolean_field: bool\n",
    "    list_field: List[str]\n",
    "    dict_field: Dict[str, int]\n",
    "    tuple_field: Tuple[int, str, float]\n",
    "    set_field: Set[int]\n",
    "    optional_field: Optional[str]\n",
    "    union_field: Union[int, str]\n",
    "    date_field: date\n",
    "    datetime_field: datetime\n",
    "\n",
    "example = ExampleModel(\n",
    "    string_field=\"hello\",\n",
    "    integer_field=123,\n",
    "    float_field=3.14,\n",
    "    boolean_field=True,\n",
    "    list_field=[\"a\", \"b\", \"c\"],\n",
    "    dict_field={\"key\": 42},\n",
    "    tuple_field=(1, \"two\", 3.0),\n",
    "    set_field={1, 2, 3},\n",
    "    optional_field=None,\n",
    "    union_field=\"42\",\n",
    "    date_field=\"2023-05-01\",\n",
    "    datetime_field=\"2023-05-01T12:00:00\"\n",
    ")\n",
    "print(example)"
   ]
  },
  {
   "cell_type": "markdown",
   "id": "f7ad44b1",
   "metadata": {},
   "source": [
    "\n",
    "## Pydantic's Custom Types\n",
    "\n",
    "Pydantic provides several custom types for common use cases:\n",
    "\n",
    "### EmailStr\n",
    "\n",
    "For validating email addresses:\n"
   ]
  },
  {
   "cell_type": "code",
   "execution_count": null,
   "id": "8912597c",
   "metadata": {},
   "outputs": [],
   "source": [
    "from pydantic import BaseModel, EmailStr\n",
    "\n",
    "class User(BaseModel):\n",
    "    email: EmailStr\n",
    "\n",
    "user = User(email=\"user@example.com\")\n",
    "print(user.email)  # Output: user@example.com\n",
    "\n",
    "# This will raise a validation error\n",
    "# User(email=\"invalid-email\")"
   ]
  },
  {
   "cell_type": "markdown",
   "id": "542e3022",
   "metadata": {},
   "source": [
    "\n",
    "### HttpUrl\n",
    "\n",
    "For validating HTTP/HTTPS URLs:\n"
   ]
  },
  {
   "cell_type": "code",
   "execution_count": null,
   "id": "acebf2ee",
   "metadata": {},
   "outputs": [],
   "source": [
    "from pydantic import BaseModel, HttpUrl\n",
    "\n",
    "class Website(BaseModel):\n",
    "    url: HttpUrl\n",
    "\n",
    "site = Website(url=\"https://www.example.com\")\n",
    "print(site.url)  # Output: https://www.example.com\n",
    "\n",
    "# This will raise a validation error\n",
    "# Website(url=\"not-a-url\")"
   ]
  },
  {
   "cell_type": "markdown",
   "id": "52fda0ce",
   "metadata": {},
   "source": [
    "\n",
    "### SecretStr\n",
    "\n",
    "For handling sensitive data:\n"
   ]
  },
  {
   "cell_type": "code",
   "execution_count": null,
   "id": "5ed1cc76",
   "metadata": {},
   "outputs": [],
   "source": [
    "from pydantic import BaseModel, SecretStr\n",
    "\n",
    "class Credentials(BaseModel):\n",
    "    password: SecretStr\n",
    "\n",
    "creds = Credentials(password=\"mysecretpassword\")\n",
    "print(creds.password)  # Output: SecretStr('**********')\n",
    "print(creds.password.get_secret_value())  # Output: mysecretpassword"
   ]
  },
  {
   "cell_type": "markdown",
   "id": "a13bddc9",
   "metadata": {},
   "source": [
    "\n",
    "### conint, confloat, constr\n",
    "\n",
    "For constrained numeric and string types:\n"
   ]
  },
  {
   "cell_type": "code",
   "execution_count": null,
   "id": "c0d6c972",
   "metadata": {},
   "outputs": [],
   "source": [
    "from pydantic import BaseModel, conint, confloat, constr\n",
    "\n",
    "class ConstrainedModel(BaseModel):\n",
    "    age: conint(ge=0, lt=120)  # greater than or equal to 0, less than 120\n",
    "    score: confloat(ge=0, le=1)  # between 0 and 1 inclusive\n",
    "    name: constr(min_length=2, max_length=50)  # length between 2 and 50\n",
    "\n",
    "model = ConstrainedModel(age=30, score=0.75, name=\"Alice\")\n",
    "print(model)\n",
    "\n",
    "# These will raise validation errors:\n",
    "# ConstrainedModel(age=150, score=2, name=\"A\")"
   ]
  },
  {
   "cell_type": "markdown",
   "id": "0da75262",
   "metadata": {},
   "source": [
    "\n",
    "### UUID\n",
    "\n",
    "For handling UUID fields:\n"
   ]
  },
  {
   "cell_type": "code",
   "execution_count": null,
   "id": "26996935",
   "metadata": {},
   "outputs": [],
   "source": [
    "from pydantic import BaseModel\n",
    "from uuid import UUID\n",
    "\n",
    "class Item(BaseModel):\n",
    "    id: UUID\n",
    "\n",
    "item = Item(id=\"123e4567-e89b-12d3-a456-426614174000\")\n",
    "print(item.id)  # Output: 123e4567-e89b-12d3-a456-426614174000"
   ]
  },
  {
   "cell_type": "markdown",
   "id": "a7c6f390",
   "metadata": {},
   "source": [
    "\n",
    "### Custom Types\n",
    "\n",
    "You can also create custom types for specific use cases:\n"
   ]
  },
  {
   "cell_type": "code",
   "execution_count": null,
   "id": "55021c97",
   "metadata": {},
   "outputs": [],
   "source": [
    "from pydantic import BaseModel, constr\n",
    "\n",
    "# Custom type for a US zip code\n",
    "USZipCode = constr(regex=r'^\\d{5}(-\\d{4})?$')\n",
    "\n",
    "class Address(BaseModel):\n",
    "    zip_code: USZipCode\n",
    "\n",
    "address = Address(zip_code=\"12345\")\n",
    "print(address.zip_code)  # Output: 12345\n",
    "\n",
    "# This will raise a validation error\n",
    "# Address(zip_code=\"invalid-zip\")"
   ]
  },
  {
   "cell_type": "markdown",
   "id": "b5cfcf33",
   "metadata": {},
   "source": [
    "\n",
    "By leveraging these field types and annotations, you can create precise and type-safe Pydantic models that accurately represent your data structures and enforce validation rules."
   ]
  }
 ],
 "metadata": {},
 "nbformat": 4,
 "nbformat_minor": 5
}
