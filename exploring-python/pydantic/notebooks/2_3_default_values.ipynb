{
 "cells": [
  {
   "cell_type": "markdown",
   "id": "b3190c99",
   "metadata": {},
   "source": [
    "# 2 3 Default Values"
   ]
  },
  {
   "cell_type": "markdown",
   "id": "555dee68",
   "metadata": {},
   "source": [
    "Here's the combined document that integrates the content from both parts and additional information:\n",
    "\n",
    "---\n",
    "\n",
    "# 2.3. Default Values\n",
    "\n",
    "Default values in Pydantic models allow you to specify fallback values for fields when they are not provided during model instantiation. This section covers how to set and use default values, including dynamic default values.\n",
    "\n",
    "## Setting and Using Default Values\n",
    "\n",
    "You can set default values for fields in Pydantic models using the following syntax:\n"
   ]
  },
  {
   "cell_type": "code",
   "execution_count": null,
   "id": "f9889010",
   "metadata": {},
   "outputs": [],
   "source": [
    "from pydantic import BaseModel\n",
    "from typing import List\n",
    "\n",
    "class User(BaseModel):\n",
    "    name: str\n",
    "    age: int = 18\n",
    "    is_active: bool = True\n",
    "    tags: List[str] = []\n",
    "\n",
    "# Create a user with only a name\n",
    "user1 = User(name=\"Alice\")\n",
    "print(user1)\n",
    "# Output: name='Alice' age=18 is_active=True tags=[]\n",
    "\n",
    "# Create a user overriding some default values\n",
    "user2 = User(name=\"Bob\", age=25, tags=[\"employee\"])\n",
    "print(user2)\n",
    "# Output: name='Bob' age=25 is_active=True tags=['employee']"
   ]
  },
  {
   "cell_type": "markdown",
   "id": "4d276af7",
   "metadata": {},
   "source": [
    "\n",
    "In this example:\n",
    "- `name` has no default value and is required.\n",
    "- `age` has a default value of 18.\n",
    "- `is_active` has a default value of True.\n",
    "- `tags` has a default value of an empty list.\n",
    "\n",
    "## Dynamic Default Values\n",
    "\n",
    "Sometimes you need default values that are computed at runtime. Pydantic provides two main ways to achieve this:\n",
    "\n",
    "### 1. Using the `default_factory` Parameter\n",
    "\n",
    "The `default_factory` parameter allows you to specify a function that will be called to generate the default value:\n"
   ]
  },
  {
   "cell_type": "code",
   "execution_count": null,
   "id": "a5e89196",
   "metadata": {},
   "outputs": [],
   "source": [
    "from pydantic import BaseModel, Field\n",
    "from datetime import datetime\n",
    "from typing import List\n",
    "import uuid\n",
    "\n",
    "def generate_id():\n",
    "    return str(uuid.uuid4())\n",
    "\n",
    "class Item(BaseModel):\n",
    "    id: str = Field(default_factory=generate_id)\n",
    "    created_at: datetime = Field(default_factory=datetime.now)\n",
    "    tags: List[str] = Field(default_factory=list)\n",
    "\n",
    "item = Item()\n",
    "print(item)\n",
    "# Output: id='f47ac10b-58cc-4372-a567-0e02b2c3d479' created_at=datetime.datetime(2023, 5, 1, 12, 0, 0, 123456) tags=[]"
   ]
  },
  {
   "cell_type": "markdown",
   "id": "a8da4ba4",
   "metadata": {},
   "source": [
    "\n",
    "In this example:\n",
    "- `id` uses a custom function to generate a UUID.\n",
    "- `created_at` uses `datetime.now` to set the current timestamp.\n",
    "- `tags` uses the built-in `list` function to create an empty list.\n",
    "\n",
    "### 2. Using a Lambda Function\n",
    "\n",
    "For simple computations, you can use a lambda function directly:\n"
   ]
  },
  {
   "cell_type": "code",
   "execution_count": null,
   "id": "80c8d121",
   "metadata": {},
   "outputs": [],
   "source": [
    "from pydantic import BaseModel, Field\n",
    "import random\n",
    "\n",
    "class RandomModel(BaseModel):\n",
    "    random_int: int = Field(default_factory=lambda: random.randint(1, 100))\n",
    "    random_float: float = Field(default_factory=lambda: random.uniform(0, 1))\n",
    "\n",
    "model = RandomModel()\n",
    "print(model)\n",
    "# Output: random_int=42 random_float=0.12345"
   ]
  },
  {
   "cell_type": "markdown",
   "id": "644f21e8",
   "metadata": {},
   "source": [
    "\n",
    "### 3. Using `__init__` for Complex Default Logic\n",
    "\n",
    "For more complex default value logic, you can override the `__init__` method:\n"
   ]
  },
  {
   "cell_type": "code",
   "execution_count": null,
   "id": "4bbca0d7",
   "metadata": {},
   "outputs": [],
   "source": [
    "from pydantic import BaseModel\n",
    "from datetime import datetime, timedelta\n",
    "\n",
    "class Subscription(BaseModel):\n",
    "    start_date: datetime\n",
    "    end_date: datetime\n",
    "\n",
    "    def __init__(self, **data):\n",
    "        if 'start_date' not in data:\n",
    "            data['start_date'] = datetime.now()\n",
    "        if 'end_date' not in data:\n",
    "            data['end_date'] = data['start_date'] + timedelta(days=30)\n",
    "        super().__init__(**data)\n",
    "\n",
    "# Create a subscription with default dates\n",
    "sub1 = Subscription()\n",
    "print(sub1)\n",
    "# Output: start_date=datetime.datetime(2023, 5, 1, 12, 0, 0, 123456) end_date=datetime.datetime(2023, 5, 31, 12, 0, 0, 123456)\n",
    "\n",
    "# Create a subscription with a custom start date\n",
    "sub2 = Subscription(start_date=datetime(2023, 6, 1))\n",
    "print(sub2)\n",
    "# Output: start_date=datetime.datetime(2023, 6, 1, 0, 0) end_date=datetime.datetime(2023, 7, 1, 0, 0)"
   ]
  },
  {
   "cell_type": "markdown",
   "id": "eb6c0a19",
   "metadata": {},
   "source": [
    "\n",
    "In this example:\n",
    "\n",
    "- The `__init__` method checks if `start_date` or `end_date` is provided in the input data. If not, it sets `start_date` to the current time and `end_date` to 30 days after `start_date`.\n",
    "- This allows for more complex logic for setting default values that depend on other fields or external factors.\n",
    "\n",
    "## Best Practices for Default Values\n",
    "\n",
    "When working with default values in Pydantic models, consider the following best practices:\n",
    "\n",
    "1. **Immutable Defaults**: Use immutable types for default values when possible to avoid shared state issues.\n"
   ]
  },
  {
   "cell_type": "code",
   "execution_count": null,
   "id": "27046e20",
   "metadata": {},
   "outputs": [],
   "source": [
    "class BadExample(BaseModel):\n",
    "    items: List[str] = []  # Bad: all instances will share the same list\n",
    "\n",
    "class GoodExample(BaseModel):\n",
    "    items: List[str] = Field(default_factory=list)  # Good: each instance gets its own list"
   ]
  },
  {
   "cell_type": "markdown",
   "id": "42d23d3b",
   "metadata": {},
   "source": [
    "\n",
    "2. **Type Consistency**: Ensure that default values match the field's type annotation. This ensures that all values conform to expected types, which helps maintain data integrity.\n",
    "\n",
    "3. **Meaningful Defaults**: Choose default values that make sense for your application's domain. This helps make models more intuitive and reduces the need for additional validation logic.\n",
    "\n",
    "4. **Documentation**: Use the `Field` class to add descriptions to your fields, especially when using default values. This makes your models more understandable to others who might use them.\n"
   ]
  },
  {
   "cell_type": "code",
   "execution_count": null,
   "id": "2b660799",
   "metadata": {},
   "outputs": [],
   "source": [
    "from pydantic import BaseModel, Field\n",
    "\n",
    "class User(BaseModel):\n",
    "    name: str\n",
    "    age: int = Field(default=18, description=\"Age of the user (must be 18 or older)\")"
   ]
  },
  {
   "cell_type": "markdown",
   "id": "827b3ae7",
   "metadata": {},
   "source": [
    "\n",
    "5. **Avoid Complex Computations**: For performance reasons, avoid computationally expensive default values. If needed, consider using lazy evaluation or caching.\n",
    "\n",
    "By following these practices, you can create more robust and maintainable Pydantic models with appropriate default values.\n",
    "\n",
    "## Summary\n",
    "\n",
    "Pydantic's support for default values and validation allows for robust data modeling and validation in Python applications. By setting default values and using built-in validation, you can ensure that your data models behave predictably and catch errors early in the application lifecycle.\n",
    "\n",
    "### Next Steps\n",
    "\n",
    "The following sections will dive deeper into custom validators, pre- and post-processing hooks, root validators, field-level validation, and handling validation errors. Understanding these advanced features will further enhance your ability to handle complex data validation scenarios effectively."
   ]
  }
 ],
 "metadata": {},
 "nbformat": 4,
 "nbformat_minor": 5
}
