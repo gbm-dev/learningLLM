{
 "cells": [
  {
   "cell_type": "markdown",
   "id": "cc8ec3af",
   "metadata": {},
   "source": [
    "# 2.4. Field Constraints\n",
    "\n",
    "Pydantic allows you to add constraints to fields, ensuring that the data not only matches the correct type but also adheres to specific rules. This section covers how to use built-in constraints and create custom ones.\n",
    "\n",
    "## Using Built-in Constraints\n",
    "\n",
    "Pydantic provides several built-in constraints that you can use with the `Field` function:\n",
    "\n",
    "### Length Constraints\n",
    "\n",
    "For strings, lists, and other sequences:\n"
   ]
  },
  {
   "cell_type": "code",
   "execution_count": null,
   "id": "5df092eb",
   "metadata": {},
   "outputs": [],
   "source": [
    "from pydantic import BaseModel, Field\n",
    "\n",
    "class User(BaseModel):\n",
    "    username: str = Field(..., min_length=3, max_length=50)\n",
    "    tags: List[str] = Field(default_factory=list, max_length=5)\n",
    "\n",
    "user = User(username=\"alice\", tags=[\"staff\", \"admin\"])\n",
    "print(user)\n",
    "\n",
    "# These will raise validation errors:\n",
    "# User(username=\"a\")  # Too short\n",
    "# User(username=\"a\" * 51)  # Too long\n",
    "# User(username=\"alice\", tags=[\"a\", \"b\", \"c\", \"d\", \"e\", \"f\"])  # Too many tags"
   ]
  },
  {
   "cell_type": "markdown",
   "id": "99ae77a6",
   "metadata": {},
   "source": [
    "\n",
    "### Numeric Constraints\n",
    "\n",
    "For integers and floats:\n"
   ]
  },
  {
   "cell_type": "code",
   "execution_count": null,
   "id": "a0b67bf1",
   "metadata": {},
   "outputs": [],
   "source": [
    "from pydantic import BaseModel, Field\n",
    "\n",
    "class Product(BaseModel):\n",
    "    id: int = Field(..., ge=1)  # greater than or equal to 1\n",
    "    price: float = Field(..., gt=0, le=1000)  # greater than 0 and less than or equal to 1000\n",
    "    quantity: int = Field(..., multiple_of=5)  # must be a multiple of 5\n",
    "\n",
    "product = Product(id=1, price=99.99, quantity=15)\n",
    "print(product)\n",
    "\n",
    "# These will raise validation errors:\n",
    "# Product(id=0, price=99.99, quantity=15)  # id too low\n",
    "# Product(id=1, price=1001, quantity=15)  # price too high\n",
    "# Product(id=1, price=99.99, quantity=17)  # quantity not a multiple of 5"
   ]
  },
  {
   "cell_type": "markdown",
   "id": "7ba74803",
   "metadata": {},
   "source": [
    "\n",
    "### Regex Constraints\n",
    "\n",
    "For string patterns:\n"
   ]
  },
  {
   "cell_type": "code",
   "execution_count": null,
   "id": "6a16e888",
   "metadata": {},
   "outputs": [],
   "source": [
    "from pydantic import BaseModel, Field\n",
    "\n",
    "class User(BaseModel):\n",
    "    username: str = Field(..., regex=\"^[a-zA-Z0-9_]+$\")\n",
    "    phone: str = Field(..., regex=r\"^\\+?1?\\d{9,15}$\")\n",
    "\n",
    "user = User(username=\"john_doe\", phone=\"+1234567890\")\n",
    "print(user)\n",
    "\n",
    "# These will raise validation errors:\n",
    "# User(username=\"john@doe\", phone=\"+1234567890\")  # Invalid username\n",
    "# User(username=\"john_doe\", phone=\"123\")  # Invalid phone number"
   ]
  },
  {
   "cell_type": "markdown",
   "id": "ce9d830c",
   "metadata": {},
   "source": [
    "\n",
    "## Creating Custom Constraints\n",
    "\n",
    "For more complex validation rules, you can create custom validators:\n"
   ]
  },
  {
   "cell_type": "code",
   "execution_count": null,
   "id": "9848c2bc",
   "metadata": {},
   "outputs": [],
   "source": [
    "from pydantic import BaseModel, Field, validator\n",
    "\n",
    "class Order(BaseModel):\n",
    "    items: List[str] = Field(..., min_length=1)\n",
    "    total: float = Field(..., gt=0)\n",
    "\n",
    "    @validator('total')\n",
    "    def validate_total(cls, v, values):\n",
    "        if 'items' in values and len(values['items']) > 5 and v < 100:\n",
    "            raise ValueError(\"Orders with more than 5 items must have a total greater than 100\")\n",
    "        return v\n",
    "\n",
    "order1 = Order(items=[\"item1\", \"item2\"], total=50)\n",
    "print(order1)\n",
    "\n",
    "# This will raise a validation error:\n",
    "# Order(items=[\"item1\", \"item2\", \"item3\", \"item4\", \"item5\", \"item6\"], total=50)"
   ]
  },
  {
   "cell_type": "markdown",
   "id": "9cf7ec3a",
   "metadata": {},
   "source": [
    "\n",
    "In this example, we've created a custom validator that checks if an order with more than 5 items has a total greater than 100.\n",
    "\n",
    "By using these field constraints, you can ensure that your data not only has the correct types but also meets specific business rules and requirements."
   ]
  }
 ],
 "metadata": {},
 "nbformat": 4,
 "nbformat_minor": 5
}
