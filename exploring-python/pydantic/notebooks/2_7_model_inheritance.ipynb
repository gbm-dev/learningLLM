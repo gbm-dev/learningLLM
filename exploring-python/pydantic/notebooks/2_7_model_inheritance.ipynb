{
 "cells": [
  {
   "cell_type": "markdown",
   "id": "a507eb22",
   "metadata": {},
   "source": [
    "# 2.7. Model Inheritance\n",
    "\n",
    "Pydantic supports model inheritance, allowing you to create hierarchies of models. This feature is useful for creating specialized versions of base models or for sharing common fields across multiple models. This section covers how to use model inheritance and composition techniques in Pydantic.\n",
    "\n",
    "## Extending Models\n",
    "\n",
    "To create a new model that inherits from an existing one, simply subclass the base model:\n"
   ]
  },
  {
   "cell_type": "code",
   "execution_count": null,
   "id": "8a221366",
   "metadata": {},
   "outputs": [],
   "source": [
    "from pydantic import BaseModel\n",
    "from datetime import datetime\n",
    "\n",
    "class BaseItem(BaseModel):\n",
    "    id: int\n",
    "    created_at: datetime = Field(default_factory=datetime.now)\n",
    "\n",
    "class Book(BaseItem):\n",
    "    title: str\n",
    "    author: str\n",
    "    pages: int\n",
    "\n",
    "class Electronics(BaseItem):\n",
    "    name: str\n",
    "    brand: str\n",
    "    price: float\n",
    "\n",
    "# Using the inherited models\n",
    "book = Book(id=1, title=\"1984\", author=\"George Orwell\", pages=328)\n",
    "phone = Electronics(id=2, name=\"Smartphone\", brand=\"TechCo\", price=599.99)\n",
    "\n",
    "print(book)\n",
    "# Output: id=1 created_at=datetime.datetime(2023, 5, 1, 12, 0, 0, 123456) title='1984' author='George Orwell' pages=328\n",
    "\n",
    "print(phone)\n",
    "# Output: id=2 created_at=datetime.datetime(2023, 5, 1, 12, 0, 0, 123457) name='Smartphone' brand='TechCo' price=599.99"
   ]
  },
  {
   "cell_type": "markdown",
   "id": "b47be639",
   "metadata": {},
   "source": [
    "\n",
    "In this example, both `Book` and `Electronics` inherit the `id` and `created_at` fields from `BaseItem`.\n",
    "\n",
    "## Overriding Fields\n",
    "\n",
    "You can override fields from the base model in the child model:\n"
   ]
  },
  {
   "cell_type": "code",
   "execution_count": null,
   "id": "0725360f",
   "metadata": {},
   "outputs": [],
   "source": [
    "from pydantic import BaseModel, Field\n",
    "\n",
    "class BaseUser(BaseModel):\n",
    "    name: str\n",
    "    email: str = Field(..., regex=r\"[^@]+@[^@]+\\.[^@]+\")\n",
    "\n",
    "class AdminUser(BaseUser):\n",
    "    email: str = Field(..., regex=r\"[^@]+@admin\\.[^@]+\")\n",
    "    privileges: List[str]\n",
    "\n",
    "# This will work\n",
    "regular_user = BaseUser(name=\"John\", email=\"john@example.com\")\n",
    "\n",
    "# This will work\n",
    "admin_user = AdminUser(name=\"Alice\", email=\"alice@admin.com\", privileges=[\"create\", \"delete\"])\n",
    "\n",
    "# This will raise a validation error\n",
    "# AdminUser(name=\"Bob\", email=\"bob@example.com\", privileges=[\"read\"])"
   ]
  },
  {
   "cell_type": "markdown",
   "id": "01318a7b",
   "metadata": {},
   "source": [
    "\n",
    "In this example, `AdminUser` overrides the `email` field with a more restrictive regex pattern.\n",
    "\n",
    "## Mixin Classes and Composition\n",
    "\n",
    "Mixin classes are a way to add functionality to models without using inheritance. They're particularly useful when you want to add the same set of fields or methods to multiple unrelated models:\n"
   ]
  },
  {
   "cell_type": "code",
   "execution_count": null,
   "id": "d379045b",
   "metadata": {},
   "outputs": [],
   "source": [
    "from pydantic import BaseModel\n",
    "from datetime import datetime\n",
    "\n",
    "class TimestampMixin(BaseModel):\n",
    "    created_at: datetime = Field(default_factory=datetime.now)\n",
    "    updated_at: datetime = Field(default_factory=datetime.now)\n",
    "\n",
    "class UserMixin(BaseModel):\n",
    "    username: str\n",
    "    email: str\n",
    "\n",
    "class Post(TimestampMixin, UserMixin):\n",
    "    title: str\n",
    "    content: str\n",
    "\n",
    "class Comment(TimestampMixin, UserMixin):\n",
    "    post_id: int\n",
    "    text: str\n",
    "\n",
    "post = Post(username=\"john_doe\", email=\"john@example.com\", title=\"Hello, World!\", content=\"This is my first post.\")\n",
    "comment = Comment(username=\"jane_doe\", email=\"jane@example.com\", post_id=1, text=\"Great post!\")\n",
    "\n",
    "print(post)\n",
    "# Output: created_at=datetime.datetime(...) updated_at=datetime.datetime(...) username='john_doe' email='john@example.com' title='Hello, World!' content='This is my first post.'\n",
    "\n",
    "print(comment)\n",
    "# Output: created_at=datetime.datetime(...) updated_at=datetime.datetime(...) username='jane_doe' email='jane@example.com' post_id=1 text='Great post!'"
   ]
  },
  {
   "cell_type": "markdown",
   "id": "99496257",
   "metadata": {},
   "source": [
    "\n",
    "In this example, both `Post` and `Comment` use the `TimestampMixin` and `UserMixin` to include common fields.\n",
    "\n",
    "## Best Practices for Model Inheritance\n",
    "\n",
    "1. **Use Inheritance Judiciously**: While inheritance can be powerful, overuse can lead to complex hierarchies. Use it when there's a clear \"is-a\" relationship between models.\n",
    "\n",
    "2. **Prefer Composition**: For sharing functionality across unrelated models, consider using mixins or composition over deep inheritance hierarchies.\n",
    "\n",
    "3. **Be Careful with Field Overrides**: When overriding fields, ensure that the new definition is compatible with the base definition to avoid unexpected behavior.\n",
    "\n",
    "4. **Document Inherited Behavior**: Clearly document which fields and behaviors are inherited in your model classes.\n",
    "\n",
    "5. **Use Abstract Base Classes**: For creating base models that shouldn't be instantiated directly, consider using Python's `abc` module:\n"
   ]
  },
  {
   "cell_type": "code",
   "execution_count": null,
   "id": "508270c6",
   "metadata": {},
   "outputs": [],
   "source": [
    "from abc import ABC\n",
    "from pydantic import BaseModel\n",
    "\n",
    "class Animal(BaseModel, ABC):\n",
    "    name: str\n",
    "    species: str\n",
    "\n",
    "class Dog(Animal):\n",
    "    breed: str\n",
    "\n",
    "class Cat(Animal):\n",
    "    lives_left: int = 9\n",
    "\n",
    "# This will work\n",
    "dog = Dog(name=\"Buddy\", species=\"Canis familiaris\", breed=\"Labrador\")\n",
    "\n",
    "# This will work\n",
    "cat = Cat(name=\"Whiskers\", species=\"Felis catus\")\n",
    "\n",
    "# This will raise a TypeError\n",
    "# animal = Animal(name=\"Generic\", species=\"Animalus genericus\")"
   ]
  },
  {
   "cell_type": "markdown",
   "id": "1320c008",
   "metadata": {},
   "source": [
    "\n",
    "By using model inheritance effectively, you can create more maintainable and DRY (Don't Repeat Yourself) code when working with related data structures in your Pydantic models."
   ]
  }
 ],
 "metadata": {},
 "nbformat": 4,
 "nbformat_minor": 5
}
