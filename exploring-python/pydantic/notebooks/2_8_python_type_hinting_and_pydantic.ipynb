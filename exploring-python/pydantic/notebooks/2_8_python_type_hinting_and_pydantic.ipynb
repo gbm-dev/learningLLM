{
 "cells": [
  {
   "cell_type": "markdown",
   "id": "9585e46e",
   "metadata": {},
   "source": [
    "# 2.8. Python Type Hinting and Pydantic\n",
    "\n",
    "Python's type hinting system is a cornerstone of Pydantic's functionality. This section explores how Pydantic leverages type hints and provides best practices for using type annotations in Pydantic models.\n",
    "\n",
    "## Understanding Python's Type Hinting System\n",
    "\n",
    "Python's type hinting system, introduced in Python 3.5 with PEP 484, allows developers to specify expected types for variables, function parameters, and return values. While these hints are not enforced at runtime by Python itself, they provide valuable information for tools, IDEs, and libraries like Pydantic.\n",
    "\n",
    "Basic syntax for type hints:\n"
   ]
  },
  {
   "cell_type": "code",
   "execution_count": null,
   "id": "e51dd179",
   "metadata": {},
   "outputs": [],
   "source": [
    "def greet(name: str) -> str:\n",
    "    return f\"Hello, {name}!\"\n",
    "\n",
    "x: int = 5\n",
    "y: float = 3.14\n",
    "names: List[str] = [\"Alice\", \"Bob\", \"Charlie\"]"
   ]
  },
  {
   "cell_type": "markdown",
   "id": "54715cab",
   "metadata": {},
   "source": [
    "\n",
    "## How Pydantic Leverages Type Hints\n",
    "\n",
    "Pydantic uses type hints to:\n",
    "\n",
    "1. **Define Model Fields**: The type annotations in a Pydantic model define the expected types for each field.\n",
    "\n",
    "2. **Perform Validation**: Pydantic uses the type information to validate data at runtime.\n",
    "\n",
    "3. **Enable Auto-completion**: IDEs can use the type information to provide better auto-completion and type checking.\n",
    "\n",
    "4. **Generate JSON Schema**: Pydantic can generate JSON schemas based on the type hints in your models.\n",
    "\n",
    "Example of how Pydantic uses type hints:\n"
   ]
  },
  {
   "cell_type": "code",
   "execution_count": null,
   "id": "af517321",
   "metadata": {},
   "outputs": [],
   "source": [
    "from pydantic import BaseModel\n",
    "from typing import List, Optional\n",
    "\n",
    "class User(BaseModel):\n",
    "    id: int\n",
    "    name: str\n",
    "    email: Optional[str] = None\n",
    "    friends: List[str] = []\n",
    "\n",
    "# Pydantic will ensure that:\n",
    "# - id is an integer\n",
    "# - name is a string\n",
    "# - email is either a string or None\n",
    "# - friends is a list of strings\n",
    "user = User(id=1, name=\"John Doe\")"
   ]
  },
  {
   "cell_type": "markdown",
   "id": "4e928732",
   "metadata": {},
   "source": [
    "\n",
    "## Advanced Type Hinting with Pydantic\n",
    "\n",
    "Pydantic supports a wide range of type hints, including:\n",
    "\n",
    "1. **Optional and Union Types**:"
   ]
  },
  {
   "cell_type": "code",
   "execution_count": null,
   "id": "4b610212",
   "metadata": {},
   "outputs": [],
   "source": [
    "from typing import Optional, Union\n",
    "\n",
    "class Item(BaseModel):\n",
    "    name: str\n",
    "    description: Optional[str] = None\n",
    "    price: Union[int, float]"
   ]
  },
  {
   "cell_type": "markdown",
   "id": "437a48aa",
   "metadata": {},
   "source": [
    "\n",
    "2. **Literal Types**:"
   ]
  },
  {
   "cell_type": "code",
   "execution_count": null,
   "id": "103d5316",
   "metadata": {},
   "outputs": [],
   "source": [
    "from typing import Literal\n",
    "\n",
    "class Status(BaseModel):\n",
    "    status: Literal[\"active\", \"inactive\", \"pending\"]"
   ]
  },
  {
   "cell_type": "markdown",
   "id": "9a2e8bc2",
   "metadata": {},
   "source": [
    "\n",
    "3. **TypedDict for Structured Dictionaries**:"
   ]
  },
  {
   "cell_type": "code",
   "execution_count": null,
   "id": "bc8c5621",
   "metadata": {},
   "outputs": [],
   "source": [
    "from typing import TypedDict\n",
    "\n",
    "class UserDict(TypedDict):\n",
    "    name: str\n",
    "    age: int\n",
    "\n",
    "class Config(BaseModel):\n",
    "    user_info: UserDict"
   ]
  },
  {
   "cell_type": "markdown",
   "id": "0e122771",
   "metadata": {},
   "source": [
    "\n",
    "4. **Generics**:"
   ]
  },
  {
   "cell_type": "code",
   "execution_count": null,
   "id": "230eac43",
   "metadata": {},
   "outputs": [],
   "source": [
    "from typing import Generic, TypeVar\n",
    "\n",
    "T = TypeVar(\"T\")\n",
    "\n",
    "class Container(BaseModel, Generic[T]):\n",
    "    value: T\n",
    "\n",
    "IntContainer = Container[int]\n",
    "StrContainer = Container[str]"
   ]
  },
  {
   "cell_type": "markdown",
   "id": "2acf3da4",
   "metadata": {},
   "source": [
    "\n",
    "## Best Practices for Type Annotations in Pydantic Models\n",
    "\n",
    "1. **Be as Specific as Possible**: Use the most specific type hint that accurately represents your data.\n"
   ]
  },
  {
   "cell_type": "code",
   "execution_count": null,
   "id": "7fbf2cd2",
   "metadata": {},
   "outputs": [],
   "source": [
    "# Less specific\n",
    "data: dict\n",
    "\n",
    "# More specific\n",
    "data: Dict[str, Union[int, str]]"
   ]
  },
  {
   "cell_type": "markdown",
   "id": "c803372d",
   "metadata": {},
   "source": [
    "\n",
    "2. **Use Optional for Fields that May Be None**:\n"
   ]
  },
  {
   "cell_type": "code",
   "execution_count": null,
   "id": "f357dade",
   "metadata": {},
   "outputs": [],
   "source": [
    "class User(BaseModel):\n",
    "    name: str\n",
    "    email: Optional[str] = None"
   ]
  },
  {
   "cell_type": "markdown",
   "id": "86358f65",
   "metadata": {},
   "source": [
    "\n",
    "3. **Leverage Union for Multiple Possible Types**:\n"
   ]
  },
  {
   "cell_type": "code",
   "execution_count": null,
   "id": "5dc40bd7",
   "metadata": {},
   "outputs": [],
   "source": [
    "class Item(BaseModel):\n",
    "    id: Union[int, str]\n",
    "    quantity: Union[int, float]"
   ]
  },
  {
   "cell_type": "markdown",
   "id": "1ac422bb",
   "metadata": {},
   "source": [
    "\n",
    "4. **Use Literal for Enum-like Fields**:\n"
   ]
  },
  {
   "cell_type": "code",
   "execution_count": null,
   "id": "f30ad465",
   "metadata": {},
   "outputs": [],
   "source": [
    "class Order(BaseModel):\n",
    "    status: Literal[\"pending\", \"shipped\", \"delivered\"]"
   ]
  },
  {
   "cell_type": "markdown",
   "id": "31e41d82",
   "metadata": {},
   "source": [
    "\n",
    "5. **Employ TypedDict for Complex Nested Structures**:\n"
   ]
  },
  {
   "cell_type": "code",
   "execution_count": null,
   "id": "41f6e65b",
   "metadata": {},
   "outputs": [],
   "source": [
    "class AddressDict(TypedDict):\n",
    "    street: str\n",
    "    city: str\n",
    "    country: str\n",
    "\n",
    "class User(BaseModel):\n",
    "    name: str\n",
    "    address: AddressDict"
   ]
  },
  {
   "cell_type": "markdown",
   "id": "3e60a254",
   "metadata": {},
   "source": [
    "\n",
    "6. **Utilize NewType for Semantic Typing**:\n"
   ]
  },
  {
   "cell_type": "code",
   "execution_count": null,
   "id": "b7272db1",
   "metadata": {},
   "outputs": [],
   "source": [
    "from typing import NewType\n",
    "\n",
    "UserId = NewType(\"UserId\", int)\n",
    "\n",
    "class User(BaseModel):\n",
    "    id: UserId\n",
    "    name: str"
   ]
  },
  {
   "cell_type": "markdown",
   "id": "a6fe9ab9",
   "metadata": {},
   "source": [
    "\n",
    "7. **Consider Using `typing_extensions` for Forward Compatibility**:\n"
   ]
  },
  {
   "cell_type": "code",
   "execution_count": null,
   "id": "158c2069",
   "metadata": {},
   "outputs": [],
   "source": [
    "from typing_extensions import Annotated\n",
    "\n",
    "class Product(BaseModel):\n",
    "    price: Annotated[float, Field(gt=0)]"
   ]
  },
  {
   "cell_type": "markdown",
   "id": "88849acf",
   "metadata": {},
   "source": [
    "\n",
    "8. **Document Complex Types**:\n"
   ]
  },
  {
   "cell_type": "code",
   "execution_count": null,
   "id": "b99a0fbb",
   "metadata": {},
   "outputs": [],
   "source": [
    "class ComplexModel(BaseModel):\n",
    "    data: Dict[str, List[Union[int, str]]]\n",
    "    \"\"\"\n",
    "    A dictionary where:\n",
    "    - Keys are strings\n",
    "    - Values are lists that can contain either integers or strings\n",
    "    \"\"\""
   ]
  },
  {
   "cell_type": "markdown",
   "id": "c259c353",
   "metadata": {},
   "source": [
    "\n",
    "By following these best practices and leveraging Python's type hinting system effectively, you can create more robust, self-documenting Pydantic models that are easier to understand, maintain, and use correctly."
   ]
  }
 ],
 "metadata": {},
 "nbformat": 4,
 "nbformat_minor": 5
}
