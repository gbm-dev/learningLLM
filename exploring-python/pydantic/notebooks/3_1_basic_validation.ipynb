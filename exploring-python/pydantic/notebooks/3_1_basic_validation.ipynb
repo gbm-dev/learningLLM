{
 "cells": [
  {
   "cell_type": "markdown",
   "id": "98eabf34",
   "metadata": {},
   "source": [
    "# 3.1. Basic Validation\n",
    "\n",
    "Pydantic provides robust data validation capabilities out of the box. This section explores how Pydantic validates data and how to handle invalid data.\n",
    "\n",
    "## How Pydantic Validates Data\n",
    "\n",
    "Pydantic performs validation automatically when you create an instance of a model or when you assign values to model fields. The validation process includes:\n",
    "\n",
    "1. **Type Checking**: Ensures that the data matches the specified type.\n",
    "2. **Coercion**: Attempts to convert data to the correct type when possible.\n",
    "3. **Constraint Checking**: Applies any constraints defined for the fields.\n",
    "\n",
    "Here's a basic example:\n"
   ]
  },
  {
   "cell_type": "code",
   "execution_count": null,
   "id": "f735990b",
   "metadata": {},
   "outputs": [],
   "source": [
    "from pydantic import BaseModel, EmailStr, Field\n",
    "\n",
    "class User(BaseModel):\n",
    "    username: str = Field(..., min_length=3, max_length=50)\n",
    "    email: EmailStr\n",
    "    age: int = Field(..., ge=0, lt=120)\n",
    "\n",
    "# Valid data\n",
    "valid_user = User(username=\"john_doe\", email=\"john@example.com\", age=30)\n",
    "print(valid_user)\n",
    "# Output: username='john_doe' email='john@example.com' age=30\n",
    "\n",
    "# Pydantic will coerce the age to an integer\n",
    "coerced_user = User(username=\"jane_doe\", email=\"jane@example.com\", age=\"25\")\n",
    "print(coerced_user)\n",
    "# Output: username='jane_doe' email='jane@example.com' age=25"
   ]
  },
  {
   "cell_type": "markdown",
   "id": "c3259bf5",
   "metadata": {},
   "source": [
    "\n",
    "## Handling Invalid Data\n",
    "\n",
    "When Pydantic encounters invalid data, it raises a `ValidationError`. This error contains detailed information about what went wrong during validation.\n"
   ]
  },
  {
   "cell_type": "code",
   "execution_count": null,
   "id": "aae0acd7",
   "metadata": {},
   "outputs": [],
   "source": [
    "from pydantic import BaseModel, EmailStr, Field, ValidationError\n",
    "\n",
    "class User(BaseModel):\n",
    "    username: str = Field(..., min_length=3, max_length=50)\n",
    "    email: EmailStr\n",
    "    age: int = Field(..., ge=0, lt=120)\n",
    "\n",
    "try:\n",
    "    invalid_user = User(username=\"a\", email=\"not_an_email\", age=150)\n",
    "except ValidationError as e:\n",
    "    print(e)\n",
    "    \"\"\"\n",
    "    3 validation errors for User\n",
    "    username\n",
    "      String should have at least 3 characters [type=string_too_short, input_value='a', input_type=str]\n",
    "    email\n",
    "      The email address is not valid. It must have exactly one @-sign. [type=value_error.email]\n",
    "    age\n",
    "      Input should be less than 120 [type=less_than, input_value=150, input_type=int]\n",
    "    \"\"\""
   ]
  },
  {
   "cell_type": "markdown",
   "id": "74dd8662",
   "metadata": {},
   "source": [
    "\n",
    "### Accessing Validation Errors\n",
    "\n",
    "You can access the validation errors programmatically:\n"
   ]
  },
  {
   "cell_type": "code",
   "execution_count": null,
   "id": "8a3a3db1",
   "metadata": {},
   "outputs": [],
   "source": [
    "try:\n",
    "    invalid_user = User(username=\"a\", email=\"not_an_email\", age=150)\n",
    "except ValidationError as e:\n",
    "    for error in e.errors():\n",
    "        print(f\"Field: {error['loc'][0]}, Error: {error['msg']}\")\n",
    "    \"\"\"\n",
    "    Field: username, Error: String should have at least 3 characters\n",
    "    Field: email, Error: The email address is not valid. It must have exactly one @-sign.\n",
    "    Field: age, Error: Input should be less than 120\n",
    "    \"\"\""
   ]
  },
  {
   "cell_type": "markdown",
   "id": "6444c436",
   "metadata": {},
   "source": [
    "\n",
    "## Best Practices for Basic Validation\n",
    "\n",
    "1. **Use Appropriate Field Types**: Choose the most specific field type that fits your data (e.g., `EmailStr` for email addresses).\n",
    "\n",
    "2. **Set Constraints**: Use `Field()` to set constraints like `min_length`, `max_length`, `ge` (greater than or equal), `le` (less than or equal), etc.\n",
    "\n",
    "3. **Handle ValidationError**: Always handle `ValidationError` exceptions in your code to gracefully manage invalid data.\n",
    "\n",
    "4. **Use Optional Fields**: For fields that aren't required, use `Optional[Type]` and provide a default value or `None`.\n"
   ]
  },
  {
   "cell_type": "code",
   "execution_count": null,
   "id": "2fb6aa6a",
   "metadata": {},
   "outputs": [],
   "source": [
    "from typing import Optional\n",
    "from pydantic import BaseModel\n",
    "\n",
    "class Profile(BaseModel):\n",
    "    name: str\n",
    "    bio: Optional[str] = None\n",
    "    age: Optional[int] = None"
   ]
  },
  {
   "cell_type": "markdown",
   "id": "e7914d81",
   "metadata": {},
   "source": [
    "\n",
    "5. **Leverage Union Types**: When a field can be one of several types, use `Union`.\n"
   ]
  },
  {
   "cell_type": "code",
   "execution_count": null,
   "id": "158e9894",
   "metadata": {},
   "outputs": [],
   "source": [
    "from typing import Union\n",
    "from pydantic import BaseModel\n",
    "\n",
    "class Item(BaseModel):\n",
    "    id: Union[int, str]\n",
    "    quantity: Union[int, float]"
   ]
  },
  {
   "cell_type": "markdown",
   "id": "d81fcafd",
   "metadata": {},
   "source": [
    "\n",
    "By understanding and effectively using Pydantic's basic validation features, you can ensure that your data adheres to the expected structure and constraints, catching errors early and improving the overall reliability of your application."
   ]
  }
 ],
 "metadata": {},
 "nbformat": 4,
 "nbformat_minor": 5
}
