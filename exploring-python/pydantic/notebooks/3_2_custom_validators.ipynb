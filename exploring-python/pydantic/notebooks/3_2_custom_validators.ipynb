{
 "cells": [
  {
   "cell_type": "markdown",
   "id": "8db0b15a",
   "metadata": {},
   "source": [
    "# 3.2. Custom Validators\n",
    "\n",
    "While Pydantic's built-in validation is powerful, there are often cases where you need to implement custom validation logic. This section covers how to write custom validator functions and use decorator syntax for validators.\n",
    "\n",
    "## Writing Validator Functions\n",
    "\n",
    "Custom validators in Pydantic are methods that are decorated with the `@validator` decorator. These methods can perform additional checks or transformations on field values.\n",
    "\n",
    "Basic syntax for a validator:\n"
   ]
  },
  {
   "cell_type": "code",
   "execution_count": null,
   "id": "4be40b63",
   "metadata": {},
   "outputs": [],
   "source": [
    "from pydantic import BaseModel, validator\n",
    "\n",
    "class User(BaseModel):\n",
    "    name: str\n",
    "    password: str\n",
    "\n",
    "    @validator('name')\n",
    "    def name_must_contain_space(cls, v):\n",
    "        if ' ' not in v:\n",
    "            raise ValueError('must contain a space')\n",
    "        return v.title()\n",
    "\n",
    "    @validator('password')\n",
    "    def password_strength(cls, v):\n",
    "        if len(v) < 8:\n",
    "            raise ValueError('must be at least 8 characters')\n",
    "        if not any(char.isdigit() for char in v):\n",
    "            raise ValueError('must contain at least one digit')\n",
    "        return v"
   ]
  },
  {
   "cell_type": "markdown",
   "id": "0b5ed90f",
   "metadata": {},
   "source": [
    "\n",
    "In this example:\n",
    "- `name_must_contain_space` checks if the name contains a space and capitalizes it.\n",
    "- `password_strength` checks if the password meets certain criteria.\n",
    "\n",
    "## Decorator Syntax for Validators\n",
    "\n",
    "The `@validator` decorator has several options to customize its behavior:\n",
    "\n",
    "### Pre and Post Validators\n",
    "\n",
    "- **Pre-validators**: Run before Pydantic's default validation.\n",
    "- **Post-validators**: Run after Pydantic's default validation (default behavior).\n"
   ]
  },
  {
   "cell_type": "code",
   "execution_count": null,
   "id": "2cbc25c0",
   "metadata": {},
   "outputs": [],
   "source": [
    "from pydantic import BaseModel, validator\n",
    "\n",
    "class Order(BaseModel):\n",
    "    items: List[str]\n",
    "    total: float\n",
    "\n",
    "    @validator('items', pre=True)\n",
    "    def split_items(cls, v):\n",
    "        if isinstance(v, str):\n",
    "            return v.split(',')\n",
    "        return v\n",
    "\n",
    "    @validator('total')\n",
    "    def check_total(cls, v, values):\n",
    "        if 'items' in values and len(values['items']) > 5 and v < 100:\n",
    "            raise ValueError('orders with more than 5 items must have a total greater than 100')\n",
    "        return v"
   ]
  },
  {
   "cell_type": "markdown",
   "id": "b6a4637c",
   "metadata": {},
   "source": [
    "\n",
    "### Validating Multiple Fields\n",
    "\n",
    "You can apply a single validator to multiple fields:\n"
   ]
  },
  {
   "cell_type": "code",
   "execution_count": null,
   "id": "465202d7",
   "metadata": {},
   "outputs": [],
   "source": [
    "from pydantic import BaseModel, validator\n",
    "\n",
    "class Person(BaseModel):\n",
    "    first_name: str\n",
    "    last_name: str\n",
    "    age: int\n",
    "\n",
    "    @validator('first_name', 'last_name')\n",
    "    def check_name(cls, v):\n",
    "        if not v.isalpha():\n",
    "            raise ValueError('must contain only alphabetic characters')\n",
    "        return v.capitalize()"
   ]
  },
  {
   "cell_type": "markdown",
   "id": "30eed743",
   "metadata": {},
   "source": [
    "\n",
    "### Whole Model Validation\n",
    "\n",
    "Use `'*'` to create a validator that runs after all other validation:\n"
   ]
  },
  {
   "cell_type": "code",
   "execution_count": null,
   "id": "43b99ab0",
   "metadata": {},
   "outputs": [],
   "source": [
    "from pydantic import BaseModel, validator\n",
    "\n",
    "class Triangle(BaseModel):\n",
    "    side1: float\n",
    "    side2: float\n",
    "    side3: float\n",
    "\n",
    "    @validator('*')\n",
    "    def check_triangle_inequality(cls, v, values):\n",
    "        if len(values) == 3:\n",
    "            a, b, c = values['side1'], values['side2'], v\n",
    "            if not (a + b > c and b + c > a and c + a > b):\n",
    "                raise ValueError('triangle inequality not satisfied')\n",
    "        return v"
   ]
  },
  {
   "cell_type": "markdown",
   "id": "097229ea",
   "metadata": {},
   "source": [
    "\n",
    "### Accessing Other Field Values\n",
    "\n",
    "Validators can access the values of other fields:\n"
   ]
  },
  {
   "cell_type": "code",
   "execution_count": null,
   "id": "5097ed8a",
   "metadata": {},
   "outputs": [],
   "source": [
    "from pydantic import BaseModel, validator\n",
    "from datetime import date\n",
    "\n",
    "class Event(BaseModel):\n",
    "    name: str\n",
    "    start_date: date\n",
    "    end_date: date\n",
    "\n",
    "    @validator('end_date')\n",
    "    def check_dates(cls, v, values):\n",
    "        if 'start_date' in values and v < values['start_date']:\n",
    "            raise ValueError('end date must be after start date')\n",
    "        return v"
   ]
  },
  {
   "cell_type": "markdown",
   "id": "e48be9f1",
   "metadata": {},
   "source": [
    "\n",
    "## Best Practices for Custom Validators\n",
    "\n",
    "1. **Keep Validators Simple**: Each validator should ideally check one thing. This makes them easier to understand and maintain.\n",
    "\n",
    "2. **Use Clear Error Messages**: Provide informative error messages that guide the user on how to correct the input.\n",
    "\n",
    "3. **Handle Edge Cases**: Consider all possible input scenarios, including None values if the field is optional.\n",
    "\n",
    "4. **Use Type Annotations**: Annotate the return type of your validators to maintain type consistency.\n",
    "\n",
    "5. **Avoid Side Effects**: Validators should not modify external state or have side effects.\n",
    "\n",
    "6. **Use always=True for Optional Fields**: If you want a validator to run even when the field is not provided, use `always=True`:\n"
   ]
  },
  {
   "cell_type": "code",
   "execution_count": null,
   "id": "c1624355",
   "metadata": {},
   "outputs": [],
   "source": [
    "from pydantic import BaseModel, validator\n",
    "from typing import Optional\n",
    "\n",
    "class User(BaseModel):\n",
    "    username: Optional[str] = None\n",
    "\n",
    "    @validator('username', always=True)\n",
    "    def set_default_username(cls, v):\n",
    "        return v or 'anonymous'"
   ]
  },
  {
   "cell_type": "markdown",
   "id": "ead6a63f",
   "metadata": {},
   "source": [
    "\n",
    "By leveraging custom validators, you can implement complex validation logic that goes beyond simple type checking, ensuring that your data not only has the correct structure but also meets specific business rules and requirements."
   ]
  }
 ],
 "metadata": {},
 "nbformat": 4,
 "nbformat_minor": 5
}
