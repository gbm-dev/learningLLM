{
 "cells": [
  {
   "cell_type": "markdown",
   "id": "b44a4359",
   "metadata": {},
   "source": [
    "# 3.3. Pre and Post-Processing Hooks\n",
    "\n",
    "Pydantic provides mechanisms to modify data before and after validation. These hooks allow you to transform input data, perform complex validations, or modify the final model state. This section covers how to use pre and post-processing hooks and explores use cases for each.\n",
    "\n",
    "## Modifying Data Before Validation\n",
    "\n",
    "### Root Validators\n",
    "\n",
    "Root validators allow you to access and modify the entire input data before it's parsed into individual fields. They're defined using the `@root_validator(pre=True)` decorator.\n"
   ]
  },
  {
   "cell_type": "code",
   "execution_count": null,
   "id": "6b8c1405",
   "metadata": {},
   "outputs": [],
   "source": [
    "from pydantic import BaseModel, root_validator\n",
    "\n",
    "class User(BaseModel):\n",
    "    username: str\n",
    "    password: str\n",
    "\n",
    "    @root_validator(pre=True)\n",
    "    def check_credentials(cls, values):\n",
    "        username = values.get('username', '')\n",
    "        password = values.get('password', '')\n",
    "        if username == 'admin' and not password.startswith('secret_'):\n",
    "            raise ValueError('Invalid admin password')\n",
    "        return values"
   ]
  },
  {
   "cell_type": "markdown",
   "id": "23bda8a5",
   "metadata": {},
   "source": [
    "\n",
    "### Field Aliases\n",
    "\n",
    "Field aliases allow you to accept input data with different key names:\n"
   ]
  },
  {
   "cell_type": "code",
   "execution_count": null,
   "id": "3dc2aa15",
   "metadata": {},
   "outputs": [],
   "source": [
    "from pydantic import BaseModel, Field\n",
    "\n",
    "class User(BaseModel):\n",
    "    user_id: int = Field(..., alias='id')\n",
    "    full_name: str = Field(..., alias='name')"
   ]
  },
  {
   "cell_type": "markdown",
   "id": "63f80a76",
   "metadata": {},
   "source": [
    "\n",
    "## Modifying Data After Validation\n",
    "\n",
    "### Post-Validation Root Validators\n",
    "\n",
    "You can use root validators to modify the final model state after all fields have been validated:\n"
   ]
  },
  {
   "cell_type": "code",
   "execution_count": null,
   "id": "9627c080",
   "metadata": {},
   "outputs": [],
   "source": [
    "from pydantic import BaseModel, root_validator\n",
    "\n",
    "class Order(BaseModel):\n",
    "    items: List[str]\n",
    "    total: float\n",
    "\n",
    "    @root_validator\n",
    "    def calculate_total(cls, values):\n",
    "        items = values.get('items', [])\n",
    "        values['total'] = sum(len(item) for item in items) * 1.5\n",
    "        return values"
   ]
  },
  {
   "cell_type": "markdown",
   "id": "cdb52baa",
   "metadata": {},
   "source": [
    "\n",
    "### Custom Setter Methods\n",
    "\n",
    "You can define custom setter methods for fields to modify their values after validation:\n"
   ]
  },
  {
   "cell_type": "code",
   "execution_count": null,
   "id": "e234dab2",
   "metadata": {},
   "outputs": [],
   "source": [
    "from pydantic import BaseModel, validator\n",
    "\n",
    "class User(BaseModel):\n",
    "    name: str\n",
    "    email: str\n",
    "\n",
    "    @validator('email')\n",
    "    def lowercase_email(cls, v):\n",
    "        return v.lower()"
   ]
  },
  {
   "cell_type": "markdown",
   "id": "78511e8d",
   "metadata": {},
   "source": [
    "\n",
    "## Use Cases for Preprocessing and Postprocessing\n",
    "\n",
    "### Preprocessing Use Cases\n",
    "\n",
    "1. **Data Normalization**: Standardize input data before validation.\n"
   ]
  },
  {
   "cell_type": "code",
   "execution_count": null,
   "id": "10596e88",
   "metadata": {},
   "outputs": [],
   "source": [
    "from pydantic import BaseModel, root_validator\n",
    "\n",
    "class Address(BaseModel):\n",
    "    street: str\n",
    "    city: str\n",
    "    country: str\n",
    "\n",
    "    @root_validator(pre=True)\n",
    "    def normalize_country(cls, values):\n",
    "        if 'country' in values:\n",
    "            values['country'] = values['country'].upper()\n",
    "        return values"
   ]
  },
  {
   "cell_type": "markdown",
   "id": "7ef52994",
   "metadata": {},
   "source": [
    "\n",
    "2. **Default Value Injection**: Add default values for missing fields.\n"
   ]
  },
  {
   "cell_type": "code",
   "execution_count": null,
   "id": "9917bf59",
   "metadata": {},
   "outputs": [],
   "source": [
    "from pydantic import BaseModel, root_validator\n",
    "from datetime import datetime\n",
    "\n",
    "class Event(BaseModel):\n",
    "    name: str\n",
    "    date: datetime\n",
    "\n",
    "    @root_validator(pre=True)\n",
    "    def set_default_date(cls, values):\n",
    "        if 'date' not in values:\n",
    "            values['date'] = datetime.now()\n",
    "        return values"
   ]
  },
  {
   "cell_type": "markdown",
   "id": "a05be8db",
   "metadata": {},
   "source": [
    "\n",
    "3. **Input Format Conversion**: Convert input from one format to another.\n"
   ]
  },
  {
   "cell_type": "code",
   "execution_count": null,
   "id": "add3ad7c",
   "metadata": {},
   "outputs": [],
   "source": [
    "from pydantic import BaseModel, root_validator\n",
    "import json\n",
    "\n",
    "class Config(BaseModel):\n",
    "    settings: dict\n",
    "\n",
    "    @root_validator(pre=True)\n",
    "    def parse_json(cls, values):\n",
    "        if isinstance(values.get('settings'), str):\n",
    "            try:\n",
    "                values['settings'] = json.loads(values['settings'])\n",
    "            except json.JSONDecodeError:\n",
    "                raise ValueError('Invalid JSON in settings')\n",
    "        return values"
   ]
  },
  {
   "cell_type": "markdown",
   "id": "6237adb5",
   "metadata": {},
   "source": [
    "\n",
    "### Postprocessing Use Cases\n",
    "\n",
    "1. **Derived Field Calculation**: Compute values based on other fields.\n"
   ]
  },
  {
   "cell_type": "code",
   "execution_count": null,
   "id": "6d281088",
   "metadata": {},
   "outputs": [],
   "source": [
    "from pydantic import BaseModel, root_validator\n",
    "\n",
    "class Rectangle(BaseModel):\n",
    "    width: float\n",
    "    height: float\n",
    "    area: float = 0\n",
    "\n",
    "    @root_validator\n",
    "    def calculate_area(cls, values):\n",
    "        values['area'] = values.get('width', 0) * values.get('height', 0)\n",
    "        return values"
   ]
  },
  {
   "cell_type": "markdown",
   "id": "d8b93a47",
   "metadata": {},
   "source": [
    "\n",
    "2. **Data Enrichment**: Add additional information to the model.\n"
   ]
  },
  {
   "cell_type": "code",
   "execution_count": null,
   "id": "5ece3ebd",
   "metadata": {},
   "outputs": [],
   "source": [
    "from pydantic import BaseModel, root_validator\n",
    "import httpx\n",
    "\n",
    "class User(BaseModel):\n",
    "    username: str\n",
    "    avatar_url: str = ''\n",
    "\n",
    "    @root_validator\n",
    "    def fetch_avatar(cls, values):\n",
    "        username = values.get('username')\n",
    "        if username and not values.get('avatar_url'):\n",
    "            response = httpx.get(f'https://api.github.com/users/{username}')\n",
    "            if response.status_code == 200:\n",
    "                values['avatar_url'] = response.json().get('avatar_url', '')\n",
    "        return values"
   ]
  },
  {
   "cell_type": "markdown",
   "id": "eb1ad6b5",
   "metadata": {},
   "source": [
    "\n",
    "3. **Consistency Checks**: Ensure logical consistency across fields.\n"
   ]
  },
  {
   "cell_type": "code",
   "execution_count": null,
   "id": "68c8a973",
   "metadata": {},
   "outputs": [],
   "source": [
    "from pydantic import BaseModel, root_validator\n",
    "from datetime import date\n",
    "\n",
    "class Reservation(BaseModel):\n",
    "    check_in: date\n",
    "    check_out: date\n",
    "    nights: int\n",
    "\n",
    "    @root_validator\n",
    "    def check_dates_and_nights(cls, values):\n",
    "        check_in = values.get('check_in')\n",
    "        check_out = values.get('check_out')\n",
    "        if check_in and check_out:\n",
    "            nights = (check_out - check_in).days\n",
    "            if nights != values.get('nights'):\n",
    "                values['nights'] = nights\n",
    "        return values"
   ]
  },
  {
   "cell_type": "markdown",
   "id": "1fa8b531",
   "metadata": {},
   "source": [
    "\n",
    "## Best Practices for Pre and Post-Processing Hooks\n",
    "\n",
    "1. **Keep It Simple**: Try to perform one clear task per hook.\n",
    "2. **Handle Exceptions**: Always handle potential exceptions in your hooks to provide clear error messages.\n",
    "3. **Document Behavior**: Clearly document any modifications made by hooks, especially if they change input data.\n",
    "4. **Consider Performance**: Be mindful of performance implications, especially for hooks that perform external operations.\n",
    "5. **Maintain Immutability**: When possible, create new objects instead of modifying existing ones to maintain immutability.\n",
    "\n",
    "By effectively using pre and post-processing hooks, you can create more flexible and powerful Pydantic models that can handle complex data transformations and validations while maintaining clean and understandable code."
   ]
  }
 ],
 "metadata": {},
 "nbformat": 4,
 "nbformat_minor": 5
}
