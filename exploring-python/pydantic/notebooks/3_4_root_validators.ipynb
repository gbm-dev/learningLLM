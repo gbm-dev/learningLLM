{
 "cells": [
  {
   "cell_type": "markdown",
   "id": "f8d16bef",
   "metadata": {},
   "source": [
    "# 3.4. Root Validators\n",
    "\n",
    "Root validators in Pydantic allow you to validate the entire model at once, enabling complex validation logic that involves multiple fields. This section covers how to use root validators and implement complex validation scenarios.\n",
    "\n",
    "## Validating the Entire Model\n",
    "\n",
    "Root validators are defined using the `@root_validator` decorator. They receive all the fields of the model as a dictionary and can perform validations or modifications on the entire data set.\n",
    "\n",
    "Basic syntax:\n"
   ]
  },
  {
   "cell_type": "code",
   "execution_count": null,
   "id": "67e8cdfe",
   "metadata": {},
   "outputs": [],
   "source": [
    "from pydantic import BaseModel, root_validator\n",
    "\n",
    "class User(BaseModel):\n",
    "    username: str\n",
    "    email: str\n",
    "    password: str\n",
    "    confirm_password: str\n",
    "\n",
    "    @root_validator\n",
    "    def check_passwords_match(cls, values):\n",
    "        password = values.get('password')\n",
    "        confirm_password = values.get('confirm_password')\n",
    "        if password != confirm_password:\n",
    "            raise ValueError('Passwords do not match')\n",
    "        return values"
   ]
  },
  {
   "cell_type": "markdown",
   "id": "2ba5063b",
   "metadata": {},
   "source": [
    "\n",
    "In this example, the root validator checks if the password and confirm_password fields match.\n",
    "\n",
    "## Complex Validation Logic\n",
    "\n",
    "Root validators are particularly useful for implementing complex validation logic that involves multiple fields or requires external data.\n",
    "\n",
    "### Example 1: Validating Related Fields\n"
   ]
  },
  {
   "cell_type": "code",
   "execution_count": null,
   "id": "9c3b23d9",
   "metadata": {},
   "outputs": [],
   "source": [
    "from pydantic import BaseModel, root_validator\n",
    "from datetime import date\n",
    "\n",
    "class DateRange(BaseModel):\n",
    "    start_date: date\n",
    "    end_date: date\n",
    "    duration: int\n",
    "\n",
    "    @root_validator\n",
    "    def check_dates_and_duration(cls, values):\n",
    "        start = values.get('start_date')\n",
    "        end = values.get('end_date')\n",
    "        duration = values.get('duration')\n",
    "\n",
    "        if all(v is not None for v in (start, end, duration)):\n",
    "            calculated_duration = (end - start).days\n",
    "            if calculated_duration != duration:\n",
    "                raise ValueError(f'Duration must be {calculated_duration} days')\n",
    "            if end <= start:\n",
    "                raise ValueError('End date must be after start date')\n",
    "        \n",
    "        return values"
   ]
  },
  {
   "cell_type": "markdown",
   "id": "c8e55bb7",
   "metadata": {},
   "source": [
    "\n",
    "### Example 2: Conditional Validation\n"
   ]
  },
  {
   "cell_type": "code",
   "execution_count": null,
   "id": "ae9ec07d",
   "metadata": {},
   "outputs": [],
   "source": [
    "from pydantic import BaseModel, root_validator\n",
    "\n",
    "class Payment(BaseModel):\n",
    "    amount: float\n",
    "    currency: str\n",
    "    conversion_rate: float = None\n",
    "\n",
    "    @root_validator\n",
    "    def check_conversion_rate(cls, values):\n",
    "        currency = values.get('currency')\n",
    "        rate = values.get('conversion_rate')\n",
    "\n",
    "        if currency != 'USD' and rate is None:\n",
    "            raise ValueError('Conversion rate is required for non-USD currencies')\n",
    "        if currency == 'USD' and rate is not None:\n",
    "            raise ValueError('Conversion rate should not be provided for USD')\n",
    "        \n",
    "        return values"
   ]
  },
  {
   "cell_type": "markdown",
   "id": "47e34775",
   "metadata": {},
   "source": [
    "\n",
    "### Example 3: External Data Validation\n"
   ]
  },
  {
   "cell_type": "code",
   "execution_count": null,
   "id": "84d68f0d",
   "metadata": {},
   "outputs": [],
   "source": [
    "import httpx\n",
    "from pydantic import BaseModel, root_validator\n",
    "\n",
    "class GithubUser(BaseModel):\n",
    "    username: str\n",
    "    repository_count: int\n",
    "\n",
    "    @root_validator\n",
    "    def validate_github_data(cls, values):\n",
    "        username = values.get('username')\n",
    "        if username:\n",
    "            response = httpx.get(f'https://api.github.com/users/{username}')\n",
    "            if response.status_code == 200:\n",
    "                github_data = response.json()\n",
    "                values['repository_count'] = github_data['public_repos']\n",
    "            else:\n",
    "                raise ValueError(f'Unable to fetch GitHub data for {username}')\n",
    "        return values"
   ]
  },
  {
   "cell_type": "markdown",
   "id": "48efebf4",
   "metadata": {},
   "source": [
    "\n",
    "## Best Practices for Root Validators\n",
    "\n",
    "1. **Use Pre-validation When Necessary**: If you need to modify input data before individual field validation, use `@root_validator(pre=True)`.\n",
    "\n",
    "2. **Handle Missing Values**: Remember that some fields might be missing in the `values` dictionary, especially when using `@root_validator(pre=True)`.\n",
    "\n",
    "3. **Return Modified Values**: Always return the `values` dictionary, even if you don't modify it.\n",
    "\n",
    "4. **Keep It Focused**: While root validators can do a lot, try to keep each validator focused on a specific task for clarity.\n",
    "\n",
    "5. **Error Messages**: Provide clear and specific error messages to help users understand validation failures.\n",
    "\n",
    "6. **Avoid Side Effects**: Root validators should not have side effects outside of the model instance.\n",
    "\n",
    "7. **Consider Performance**: For validators that perform expensive operations, consider caching or optimizing where possible.\n",
    "\n",
    "By leveraging root validators, you can implement sophisticated validation logic that ensures the integrity and consistency of your data across multiple fields, making your Pydantic models more robust and reliable."
   ]
  }
 ],
 "metadata": {},
 "nbformat": 4,
 "nbformat_minor": 5
}
