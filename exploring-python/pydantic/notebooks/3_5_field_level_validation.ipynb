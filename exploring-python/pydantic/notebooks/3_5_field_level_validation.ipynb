{
 "cells": [
  {
   "cell_type": "markdown",
   "id": "b0e3ea12",
   "metadata": {},
   "source": [
    "# 3.5. Field-Level Validation\n",
    "\n",
    "Field-level validation in Pydantic allows you to apply specific validation rules to individual fields. This section covers how to implement field-specific validators and how to combine them with model-level validation for comprehensive data integrity checks.\n",
    "\n",
    "## Specific Validation for Individual Fields\n",
    "\n",
    "Field-level validators are defined using the `@validator` decorator and are applied to specific fields in your model.\n",
    "\n",
    "Basic syntax:\n"
   ]
  },
  {
   "cell_type": "code",
   "execution_count": null,
   "id": "7aebe293",
   "metadata": {},
   "outputs": [],
   "source": [
    "from pydantic import BaseModel, validator\n",
    "\n",
    "class User(BaseModel):\n",
    "    username: str\n",
    "    email: str\n",
    "    age: int\n",
    "\n",
    "    @validator('username')\n",
    "    def username_alphanumeric(cls, v):\n",
    "        assert v.isalnum(), 'Must be alphanumeric'\n",
    "        return v\n",
    "\n",
    "    @validator('email')\n",
    "    def email_valid(cls, v):\n",
    "        assert '@' in v, 'Must be a valid email'\n",
    "        return v\n",
    "\n",
    "    @validator('age')\n",
    "    def age_valid(cls, v):\n",
    "        assert 18 <= v <= 120, 'Must be between 18 and 120'\n",
    "        return v"
   ]
  },
  {
   "cell_type": "markdown",
   "id": "86f61a00",
   "metadata": {},
   "source": [
    "\n",
    "In this example, each field has its own specific validation rule.\n",
    "\n",
    "## Advanced Field-Level Validation Techniques\n",
    "\n",
    "### 1. Validating Multiple Fields\n",
    "\n",
    "You can apply a single validator to multiple fields:\n"
   ]
  },
  {
   "cell_type": "code",
   "execution_count": null,
   "id": "4dc331e7",
   "metadata": {},
   "outputs": [],
   "source": [
    "from pydantic import BaseModel, validator\n",
    "\n",
    "class Rectangle(BaseModel):\n",
    "    width: float\n",
    "    height: float\n",
    "\n",
    "    @validator('width', 'height')\n",
    "    def check_positive(cls, v):\n",
    "        assert v > 0, 'Must be positive'\n",
    "        return v"
   ]
  },
  {
   "cell_type": "markdown",
   "id": "fc96fda8",
   "metadata": {},
   "source": [
    "\n",
    "### 2. Accessing Other Field Values\n",
    "\n",
    "Validators can access the values of other fields:\n"
   ]
  },
  {
   "cell_type": "code",
   "execution_count": null,
   "id": "faa6296f",
   "metadata": {},
   "outputs": [],
   "source": [
    "from pydantic import BaseModel, validator\n",
    "\n",
    "class Payment(BaseModel):\n",
    "    amount: float\n",
    "    currency: str\n",
    "    exchange_rate: float = 1.0\n",
    "\n",
    "    @validator('exchange_rate', always=True)\n",
    "    def check_exchange_rate(cls, v, values):\n",
    "        currency = values.get('currency')\n",
    "        if currency == 'USD':\n",
    "            return 1.0\n",
    "        assert v != 1.0, f'Exchange rate must be specified for {currency}'\n",
    "        return v"
   ]
  },
  {
   "cell_type": "markdown",
   "id": "c6ccecb3",
   "metadata": {},
   "source": [
    "\n",
    "### 3. Pre and Post Field Validation\n",
    "\n",
    "You can specify whether a validator should run before or after the default validation:\n"
   ]
  },
  {
   "cell_type": "code",
   "execution_count": null,
   "id": "c8f7600d",
   "metadata": {},
   "outputs": [],
   "source": [
    "from pydantic import BaseModel, validator\n",
    "\n",
    "class User(BaseModel):\n",
    "    name: str\n",
    "\n",
    "    @validator('name', pre=True)\n",
    "    def remove_whitespace(cls, v):\n",
    "        return v.strip() if isinstance(v, str) else v\n",
    "\n",
    "    @validator('name')\n",
    "    def check_name_length(cls, v):\n",
    "        assert len(v) >= 2, 'Name must be at least 2 characters'\n",
    "        return v"
   ]
  },
  {
   "cell_type": "markdown",
   "id": "b1cd7a0a",
   "metadata": {},
   "source": [
    "\n",
    "## Combining Field and Model-Level Validation\n",
    "\n",
    "To create a comprehensive validation strategy, you can combine field-level validators with root validators:\n"
   ]
  },
  {
   "cell_type": "code",
   "execution_count": null,
   "id": "090f8184",
   "metadata": {},
   "outputs": [],
   "source": [
    "from pydantic import BaseModel, validator, root_validator\n",
    "\n",
    "class Order(BaseModel):\n",
    "    item_count: int\n",
    "    price_per_item: float\n",
    "    total_price: float\n",
    "\n",
    "    @validator('item_count')\n",
    "    def check_item_count(cls, v):\n",
    "        assert v > 0, 'Must order at least one item'\n",
    "        return v\n",
    "\n",
    "    @validator('price_per_item')\n",
    "    def check_price(cls, v):\n",
    "        assert v > 0, 'Price must be positive'\n",
    "        return v\n",
    "\n",
    "    @root_validator\n",
    "    def check_total_price(cls, values):\n",
    "        item_count = values.get('item_count')\n",
    "        price_per_item = values.get('price_per_item')\n",
    "        total_price = values.get('total_price')\n",
    "        \n",
    "        if all(v is not None for v in (item_count, price_per_item, total_price)):\n",
    "            assert total_price == item_count * price_per_item, 'Total price does not match item count and price'\n",
    "        \n",
    "        return values"
   ]
  },
  {
   "cell_type": "markdown",
   "id": "200ee175",
   "metadata": {},
   "source": [
    "\n",
    "In this example:\n",
    "- Field-level validators ensure that `item_count` and `price_per_item` are positive.\n",
    "- The root validator checks if the `total_price` matches the calculation from `item_count` and `price_per_item`.\n",
    "\n",
    "## Best Practices for Field-Level Validation\n",
    "\n",
    "1. **Keep Validators Simple**: Each validator should ideally check one thing, making them easier to understand and maintain.\n",
    "\n",
    "2. **Use Clear Error Messages**: Provide informative error messages that guide the user on how to correct the input.\n",
    "\n",
    "3. **Handle Type Errors**: Remember that validators might receive data of unexpected types, especially when `pre=True`.\n",
    "\n",
    "4. **Use `always=True` for Optional Fields**: If you want a validator to run even when the field is not provided, use `always=True`.\n",
    "\n",
    "5. **Prefer Field-Level Validation**: Use field-level validators when possible, and reserve root validators for cross-field validations.\n",
    "\n",
    "6. **Combine with Pydantic's Built-in Validators**: Use Pydantic's `Field` constraints along with custom validators for comprehensive validation.\n"
   ]
  },
  {
   "cell_type": "code",
   "execution_count": null,
   "id": "0b05ea46",
   "metadata": {},
   "outputs": [],
   "source": [
    "from pydantic import BaseModel, Field, validator\n",
    "\n",
    "class Product(BaseModel):\n",
    "    name: str = Field(..., min_length=3, max_length=50)\n",
    "    price: float = Field(..., gt=0)\n",
    "\n",
    "    @validator('name')\n",
    "    def name_must_be_titlecase(cls, v):\n",
    "        return v.title()"
   ]
  },
  {
   "cell_type": "markdown",
   "id": "fa35a2ef",
   "metadata": {},
   "source": [
    "\n",
    "By effectively using field-level validation and combining it with model-level validation, you can create robust Pydantic models that ensure data integrity at both the individual field level and across the entire model."
   ]
  }
 ],
 "metadata": {},
 "nbformat": 4,
 "nbformat_minor": 5
}
