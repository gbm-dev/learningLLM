{
 "cells": [
  {
   "cell_type": "markdown",
   "id": "a6e2a023",
   "metadata": {},
   "source": [
    "# 3.6. Handling Validation Errors\n",
    "\n",
    "Proper handling of validation errors is crucial for creating user-friendly applications. This section covers understanding Pydantic's `ValidationError`, creating custom error messages, implementing custom error classes, and strategies for error localization.\n",
    "\n",
    "## Understanding ValidationError\n",
    "\n",
    "When Pydantic encounters invalid data during model instantiation or validation, it raises a `ValidationError`. This error contains detailed information about what went wrong.\n",
    "\n",
    "Basic example:\n"
   ]
  },
  {
   "cell_type": "code",
   "execution_count": null,
   "id": "e7959680",
   "metadata": {},
   "outputs": [],
   "source": [
    "from pydantic import BaseModel, ValidationError\n",
    "\n",
    "class User(BaseModel):\n",
    "    username: str\n",
    "    age: int\n",
    "\n",
    "try:\n",
    "    User(username='john', age='not an integer')\n",
    "except ValidationError as e:\n",
    "    print(e)\n",
    "    \"\"\"\n",
    "    1 validation error for User\n",
    "    age\n",
    "      Input should be a valid integer, unable to parse string as an integer [type=int_parsing, input_value='not an integer', input_type=str]\n",
    "    \"\"\""
   ]
  },
  {
   "cell_type": "markdown",
   "id": "2179d28a",
   "metadata": {},
   "source": [
    "\n",
    "### Accessing Error Details\n",
    "\n",
    "You can access detailed error information programmatically:\n"
   ]
  },
  {
   "cell_type": "code",
   "execution_count": null,
   "id": "b9facda9",
   "metadata": {},
   "outputs": [],
   "source": [
    "try:\n",
    "    User(username='john', age='not an integer')\n",
    "except ValidationError as e:\n",
    "    print(e.errors())\n",
    "    \"\"\"\n",
    "    [\n",
    "        {\n",
    "            'loc': ('age',),\n",
    "            'msg': 'Input should be a valid integer, unable to parse string as an integer',\n",
    "            'type': 'int_parsing',\n",
    "            'input': 'not an integer',\n",
    "            'ctx': {...}\n",
    "        }\n",
    "    ]\n",
    "    \"\"\""
   ]
  },
  {
   "cell_type": "markdown",
   "id": "18d1ad17",
   "metadata": {},
   "source": [
    "\n",
    "## Custom Error Messages\n",
    "\n",
    "You can provide custom error messages in your validators to make errors more user-friendly and context-specific.\n",
    "\n",
    "### Field-level Custom Messages\n"
   ]
  },
  {
   "cell_type": "code",
   "execution_count": null,
   "id": "4e281386",
   "metadata": {},
   "outputs": [],
   "source": [
    "from pydantic import BaseModel, validator\n",
    "\n",
    "class User(BaseModel):\n",
    "    username: str\n",
    "    age: int\n",
    "\n",
    "    @validator('username')\n",
    "    def username_alphanumeric(cls, v):\n",
    "        if not v.isalnum():\n",
    "            raise ValueError('Username must be alphanumeric')\n",
    "        return v\n",
    "\n",
    "    @validator('age')\n",
    "    def age_valid(cls, v):\n",
    "        if v < 18:\n",
    "            raise ValueError('User must be 18 or older')\n",
    "        return v"
   ]
  },
  {
   "cell_type": "markdown",
   "id": "aa81c4ae",
   "metadata": {},
   "source": [
    "\n",
    "### Model-level Custom Messages\n",
    "\n",
    "For root validators:\n"
   ]
  },
  {
   "cell_type": "code",
   "execution_count": null,
   "id": "597d704c",
   "metadata": {},
   "outputs": [],
   "source": [
    "from pydantic import BaseModel, root_validator\n",
    "\n",
    "class Order(BaseModel):\n",
    "    items: int\n",
    "    price_per_item: float\n",
    "\n",
    "    @root_validator\n",
    "    def check_total(cls, values):\n",
    "        items = values.get('items')\n",
    "        price = values.get('price_per_item')\n",
    "        if items and price and items * price > 1000:\n",
    "            raise ValueError('Total order value cannot exceed 1000')\n",
    "        return values"
   ]
  },
  {
   "cell_type": "markdown",
   "id": "72627299",
   "metadata": {},
   "source": [
    "\n",
    "## Creating Custom Error Classes\n",
    "\n",
    "For more complex error handling, you can create custom error classes:\n"
   ]
  },
  {
   "cell_type": "code",
   "execution_count": null,
   "id": "0088627f",
   "metadata": {},
   "outputs": [],
   "source": [
    "from pydantic import BaseModel, validator\n",
    "\n",
    "class AgeError(ValueError):\n",
    "    def __init__(self, age: int, limit: int):\n",
    "        self.age = age\n",
    "        self.limit = limit\n",
    "        super().__init__(f\"Age {age} is below the limit of {limit}\")\n",
    "\n",
    "class User(BaseModel):\n",
    "    username: str\n",
    "    age: int\n",
    "\n",
    "    @validator('age')\n",
    "    def age_valid(cls, v):\n",
    "        if v < 18:\n",
    "            raise AgeError(v, 18)\n",
    "        return v\n",
    "\n",
    "try:\n",
    "    User(username='john', age=16)\n",
    "except ValidationError as e:\n",
    "    for error in e.errors():\n",
    "        if isinstance(error['exc'], AgeError):\n",
    "            print(f\"Custom error: {error['exc']}\")\n",
    "        else:\n",
    "            print(f\"Standard error: {error['msg']}\")"
   ]
  },
  {
   "cell_type": "markdown",
   "id": "9759f487",
   "metadata": {},
   "source": [
    "\n",
    "## Error Localization Strategies\n",
    "\n",
    "Localizing error messages is important for international applications. Here are some strategies:\n",
    "\n",
    "### 1. Using gettext\n",
    "\n",
    "You can use Python's `gettext` module for internationalization:\n"
   ]
  },
  {
   "cell_type": "code",
   "execution_count": null,
   "id": "ed7a980d",
   "metadata": {},
   "outputs": [],
   "source": [
    "import gettext\n",
    "from pydantic import BaseModel, validator\n",
    "\n",
    "# Set up gettext\n",
    "_ = gettext.gettext\n",
    "\n",
    "class User(BaseModel):\n",
    "    username: str\n",
    "    age: int\n",
    "\n",
    "    @validator('age')\n",
    "    def age_valid(cls, v):\n",
    "        if v < 18:\n",
    "            raise ValueError(_('User must be 18 or older'))\n",
    "        return v"
   ]
  },
  {
   "cell_type": "markdown",
   "id": "338d3430",
   "metadata": {},
   "source": [
    "\n",
    "### 2. Error Message Mapping\n",
    "\n",
    "Create a dictionary of error messages for different languages:\n"
   ]
  },
  {
   "cell_type": "code",
   "execution_count": null,
   "id": "4ba26aad",
   "metadata": {},
   "outputs": [],
   "source": [
    "from pydantic import BaseModel, validator\n",
    "\n",
    "ERROR_MESSAGES = {\n",
    "    'en': {\n",
    "        'age_limit': 'User must be 18 or older',\n",
    "    },\n",
    "    'es': {\n",
    "        'age_limit': 'El usuario debe tener 18 años o más',\n",
    "    }\n",
    "}\n",
    "\n",
    "class User(BaseModel):\n",
    "    username: str\n",
    "    age: int\n",
    "\n",
    "    @validator('age')\n",
    "    def age_valid(cls, v):\n",
    "        if v < 18:\n",
    "            raise ValueError('age_limit')\n",
    "        return v\n",
    "\n",
    "    class Config:\n",
    "        error_msg_templates = ERROR_MESSAGES['en']  # Set default language"
   ]
  },
  {
   "cell_type": "markdown",
   "id": "6e362864",
   "metadata": {},
   "source": [
    "\n",
    "### 3. Custom Error Handler\n",
    "\n",
    "Implement a custom error handler that translates error messages:\n"
   ]
  },
  {
   "cell_type": "code",
   "execution_count": null,
   "id": "ab16ed7c",
   "metadata": {},
   "outputs": [],
   "source": [
    "from pydantic import BaseModel, ValidationError\n",
    "\n",
    "def translate_error(error_type, lang='en'):\n",
    "    translations = {\n",
    "        'en': {\n",
    "            'int_parsing': 'Must be a valid integer',\n",
    "            'age_limit': 'Must be 18 or older',\n",
    "        },\n",
    "        'es': {\n",
    "            'int_parsing': 'Debe ser un número entero válido',\n",
    "            'age_limit': 'Debe tener 18 años o más',\n",
    "        }\n",
    "    }\n",
    "    return translations.get(lang, {}).get(error_type, error_type)\n",
    "\n",
    "class User(BaseModel):\n",
    "    age: int\n",
    "\n",
    "try:\n",
    "    User(age='not an integer')\n",
    "except ValidationError as e:\n",
    "    for error in e.errors():\n",
    "        print(translate_error(error['type'], 'es'))"
   ]
  },
  {
   "cell_type": "markdown",
   "id": "2dda2866",
   "metadata": {},
   "source": [
    "\n",
    "## Best Practices for Handling Validation Errors\n",
    "\n",
    "1. **Be Specific**: Provide clear, specific error messages that help users understand what went wrong.\n",
    "\n",
    "2. **Localize Errors**: Implement a localization strategy for error messages in multi-language applications.\n",
    "\n",
    "3. **Consistent Error Format**: Maintain a consistent format for error messages across your application.\n",
    "\n",
    "4. **Separate Presentation from Logic**: Keep error generation separate from error presentation to maintain flexibility.\n",
    "\n",
    "5. **Log Validation Errors**: Consider logging validation errors for debugging and monitoring purposes.\n",
    "\n",
    "6. **Graceful Degradation**: In web applications, ensure that validation errors are handled gracefully on both client and server sides.\n",
    "\n",
    "7. **Security Considerations**: Be cautious about exposing sensitive information in error messages, especially in production environments."
   ]
  }
 ],
 "metadata": {},
 "nbformat": 4,
 "nbformat_minor": 5
}
